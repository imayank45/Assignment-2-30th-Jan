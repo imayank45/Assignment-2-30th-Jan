{
 "cells": [
  {
   "cell_type": "code",
   "execution_count": 3,
   "id": "bd1aa3b1-909b-4720-8bfd-eda12a85c510",
   "metadata": {},
   "outputs": [
    {
     "name": "stdin",
     "output_type": "stream",
     "text": [
      "Enter your percentage 88\n"
     ]
    },
    {
     "name": "stdout",
     "output_type": "stream",
     "text": [
      "Your grade is : B\n"
     ]
    }
   ],
   "source": [
    "#Que1\n",
    "p=int(input('Enter your percentage'))\n",
    "print('Your grade is : ',end='')\n",
    "if p>90:\n",
    "    print('A')\n",
    "elif p>80 and p<=90:\n",
    "    print('B')\n",
    "elif p>=60 and p<=80:\n",
    "    print('C')\n",
    "else:\n",
    "    print('D')"
   ]
  },
  {
   "cell_type": "code",
   "execution_count": 4,
   "id": "25c9cfaf-518f-452d-844a-f97c9cd2ba42",
   "metadata": {},
   "outputs": [
    {
     "name": "stdin",
     "output_type": "stream",
     "text": [
      "Enter the cost price of bike : 56000\n"
     ]
    },
    {
     "name": "stdout",
     "output_type": "stream",
     "text": [
      "You have to pay the tax of 10%\n"
     ]
    }
   ],
   "source": [
    "#Que2\n",
    "cost=int(input('Enter the cost price of bike :'))\n",
    "print('You have to pay the tax of ',end='')\n",
    "if cost>100000:\n",
    "    print('15%')\n",
    "elif cost>50000 and cost<=100000:\n",
    "    print('10%')\n",
    "else:\n",
    "    print('5%')"
   ]
  },
  {
   "cell_type": "code",
   "execution_count": 9,
   "id": "c9355552-b828-4983-be98-70b427d9d28d",
   "metadata": {},
   "outputs": [
    {
     "name": "stdin",
     "output_type": "stream",
     "text": [
      "Enter the name of the city :  Jaipur\n"
     ]
    },
    {
     "name": "stdout",
     "output_type": "stream",
     "text": [
      "Monument of city Jaipur is Red Fort\n"
     ]
    }
   ],
   "source": [
    "#Que3\n",
    "city=str(input('Enter the name of the city : '))\n",
    "print('Monument of city',city,'is ',end='')\n",
    "if city == 'Delhi' or 'delhi':\n",
    "    print('Red Fort')\n",
    "elif city == 'Agra' or 'agra':\n",
    "    print('Taj Mahal')\n",
    "elif city == 'Jaipur' or 'jaipur':\n",
    "    print('Jal Mahal')\n",
    "else:\n",
    "    print('we will soon let you know.')"
   ]
  },
  {
   "cell_type": "code",
   "execution_count": 6,
   "id": "74564b15-c91c-4928-a7f6-dff2940d76a8",
   "metadata": {},
   "outputs": [
    {
     "name": "stdin",
     "output_type": "stream",
     "text": [
      "Enter a number :  54\n"
     ]
    },
    {
     "name": "stdout",
     "output_type": "stream",
     "text": [
      "3\n"
     ]
    }
   ],
   "source": [
    "#Que4\n",
    "num=int(input('Enter a number : '))\n",
    "count=0\n",
    "while(num>10):\n",
    "    if num%3==0:\n",
    "        c+=1\n",
    "        num=num/3\n",
    "    else:\n",
    "        break\n",
    "print(c)\n",
    "    "
   ]
  },
  {
   "cell_type": "markdown",
   "id": "928c996e-97ea-46e5-89d1-418e1ac3e387",
   "metadata": {},
   "source": [
    "Que. 5] Python While Loop is used to execute a block of statements repeatedly until a given condition is satisfied. And when the condition becomes false, the line immediately after the loop in the program is executed."
   ]
  },
  {
   "cell_type": "code",
   "execution_count": 4,
   "id": "4a57f574-715d-47e7-a15d-ea515f58644f",
   "metadata": {},
   "outputs": [
    {
     "name": "stdout",
     "output_type": "stream",
     "text": [
      "* \n",
      "* * \n",
      "* * * \n",
      "* * * * \n",
      "* * * * * \n"
     ]
    }
   ],
   "source": [
    "#Que6\n",
    "i = 1\n",
    "while i <= 5:\n",
    "    j = 1\n",
    "    while j <= i:\n",
    "        if j % 2 == 0:\n",
    "            print(\"*\", end=\" \")\n",
    "        else:\n",
    "            print(\"*\", end=\" \")\n",
    "        j += 1\n",
    "    print()\n",
    "    i += 1"
   ]
  },
  {
   "cell_type": "code",
   "execution_count": 5,
   "id": "abf2bdc4-c70c-46b5-9031-217117e4f514",
   "metadata": {},
   "outputs": [
    {
     "name": "stdout",
     "output_type": "stream",
     "text": [
      "10\n",
      "9\n",
      "8\n",
      "7\n",
      "6\n",
      "5\n",
      "4\n",
      "3\n",
      "2\n",
      "1\n"
     ]
    }
   ],
   "source": [
    "#Que7\n",
    "i=10\n",
    "while(i>=1):\n",
    "    print(i)\n",
    "    i-=1"
   ]
  },
  {
   "cell_type": "code",
   "execution_count": 6,
   "id": "560f1c69-e8ab-448c-8566-827ccd9642b6",
   "metadata": {},
   "outputs": [
    {
     "name": "stdout",
     "output_type": "stream",
     "text": [
      "10\n",
      "9\n",
      "8\n",
      "7\n",
      "6\n",
      "5\n",
      "4\n",
      "3\n",
      "2\n",
      "1\n"
     ]
    }
   ],
   "source": [
    "#Que8\n",
    "i=10\n",
    "while(i>=1):\n",
    "    print(i)\n",
    "    i-=1"
   ]
  },
  {
   "cell_type": "code",
   "execution_count": null,
   "id": "e4554482-2744-4eb4-bbf4-a9d415bb30e2",
   "metadata": {},
   "outputs": [],
   "source": []
  }
 ],
 "metadata": {
  "kernelspec": {
   "display_name": "Python 3 (ipykernel)",
   "language": "python",
   "name": "python3"
  },
  "language_info": {
   "codemirror_mode": {
    "name": "ipython",
    "version": 3
   },
   "file_extension": ".py",
   "mimetype": "text/x-python",
   "name": "python",
   "nbconvert_exporter": "python",
   "pygments_lexer": "ipython3",
   "version": "3.10.8"
  }
 },
 "nbformat": 4,
 "nbformat_minor": 5
}
